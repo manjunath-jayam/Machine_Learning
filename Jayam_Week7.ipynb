{
  "nbformat": 4,
  "nbformat_minor": 0,
  "metadata": {
    "colab": {
      "name": "Jayam_Week7.ipynb",
      "provenance": [],
      "collapsed_sections": []
    },
    "kernelspec": {
      "name": "python3",
      "display_name": "Python 3"
    }
  },
  "cells": [
    {
      "cell_type": "code",
      "metadata": {
        "id": "Hxm_DwvvVXYZ"
      },
      "source": [
        "from keras.datasets import mnist\n",
        "\n",
        "from keras import models\n",
        "\n",
        "from keras import layers\n",
        "\n",
        "from keras.utils import to_categorical"
      ],
      "execution_count": 48,
      "outputs": []
    },
    {
      "cell_type": "code",
      "metadata": {
        "id": "v4N7uKdEXBGG"
      },
      "source": [
        "(train_images,train_labels),(test_images,test_labels) = mnist.load_data()"
      ],
      "execution_count": 61,
      "outputs": []
    },
    {
      "cell_type": "code",
      "metadata": {
        "id": "rbxqVuubXIzI"
      },
      "source": [
        "myNetwork = models.Sequential()\n",
        "myNetwork.add(layers.Dense(784,activation='relu',input_shape=(28*28,)))\n",
        "myNetwork.add(layers.Dense(784,activation='relu',input_shape=(28*28,)))\n",
        "myNetwork.add(layers.Dense(10,activation='softmax'))\n",
        "myNetwork.compile(optimizer='adam',loss='categorical_crossentropy',metrics=['accuracy'])"
      ],
      "execution_count": 62,
      "outputs": []
    },
    {
      "cell_type": "code",
      "metadata": {
        "id": "zlqtPIBfXQtw"
      },
      "source": [
        "train_images = train_images.reshape((60000,28*28))\n",
        "train_images = train_images.astype('float32') / 255\n",
        "test_images = test_images.reshape((10000,28*28))\n",
        "test_images = test_images.astype('float32')/255"
      ],
      "execution_count": 63,
      "outputs": []
    },
    {
      "cell_type": "code",
      "metadata": {
        "id": "IoeaWJWjXZ0Y"
      },
      "source": [
        "train_labels = to_categorical(train_labels)\n",
        "test_labels = to_categorical(test_labels)"
      ],
      "execution_count": 64,
      "outputs": []
    },
    {
      "cell_type": "code",
      "metadata": {
        "id": "thZxr9Z9XfJJ",
        "outputId": "0203b588-c6ea-459f-89ed-a65b7c7ef3bd",
        "colab": {
          "base_uri": "https://localhost:8080/",
          "height": 204
        }
      },
      "source": [
        "myNetwork.fit(train_images,train_labels,epochs=5,batch_size=128)"
      ],
      "execution_count": 65,
      "outputs": [
        {
          "output_type": "stream",
          "text": [
            "Epoch 1/5\n",
            "469/469 [==============================] - 16s 34ms/step - loss: 0.1939 - accuracy: 0.9413\n",
            "Epoch 2/5\n",
            "469/469 [==============================] - 11s 24ms/step - loss: 0.0731 - accuracy: 0.9772\n",
            "Epoch 3/5\n",
            "469/469 [==============================] - 12s 25ms/step - loss: 0.0479 - accuracy: 0.9846\n",
            "Epoch 4/5\n",
            "469/469 [==============================] - 12s 25ms/step - loss: 0.0343 - accuracy: 0.9888\n",
            "Epoch 5/5\n",
            "469/469 [==============================] - 12s 25ms/step - loss: 0.0278 - accuracy: 0.9910\n"
          ],
          "name": "stdout"
        },
        {
          "output_type": "execute_result",
          "data": {
            "text/plain": [
              "<tensorflow.python.keras.callbacks.History at 0x7f773717ccc0>"
            ]
          },
          "metadata": {
            "tags": []
          },
          "execution_count": 65
        }
      ]
    },
    {
      "cell_type": "code",
      "metadata": {
        "id": "QNdOLWrQXwfP",
        "outputId": "b5b08a0d-280b-4c64-d501-2fe13b17b632",
        "colab": {
          "base_uri": "https://localhost:8080/",
          "height": 544
        }
      },
      "source": [
        "myNetwork.fit(train_images,train_labels,epochs=15,batch_size=128)"
      ],
      "execution_count": 66,
      "outputs": [
        {
          "output_type": "stream",
          "text": [
            "Epoch 1/15\n",
            "469/469 [==============================] - 11s 24ms/step - loss: 0.0227 - accuracy: 0.9927\n",
            "Epoch 2/15\n",
            "469/469 [==============================] - 12s 25ms/step - loss: 0.0205 - accuracy: 0.9929\n",
            "Epoch 3/15\n",
            "469/469 [==============================] - 12s 25ms/step - loss: 0.0168 - accuracy: 0.9941\n",
            "Epoch 4/15\n",
            "469/469 [==============================] - 12s 25ms/step - loss: 0.0139 - accuracy: 0.9954\n",
            "Epoch 5/15\n",
            "469/469 [==============================] - 12s 25ms/step - loss: 0.0129 - accuracy: 0.9955\n",
            "Epoch 6/15\n",
            "469/469 [==============================] - 11s 25ms/step - loss: 0.0131 - accuracy: 0.9955\n",
            "Epoch 7/15\n",
            "469/469 [==============================] - 11s 24ms/step - loss: 0.0125 - accuracy: 0.9961\n",
            "Epoch 8/15\n",
            "469/469 [==============================] - 12s 25ms/step - loss: 0.0107 - accuracy: 0.9967\n",
            "Epoch 9/15\n",
            "469/469 [==============================] - 12s 25ms/step - loss: 0.0114 - accuracy: 0.9966\n",
            "Epoch 10/15\n",
            "469/469 [==============================] - 12s 25ms/step - loss: 0.0104 - accuracy: 0.9969\n",
            "Epoch 11/15\n",
            "469/469 [==============================] - 12s 25ms/step - loss: 0.0073 - accuracy: 0.9979\n",
            "Epoch 12/15\n",
            "469/469 [==============================] - 12s 25ms/step - loss: 0.0096 - accuracy: 0.9969\n",
            "Epoch 13/15\n",
            "469/469 [==============================] - 12s 25ms/step - loss: 0.0095 - accuracy: 0.9973\n",
            "Epoch 14/15\n",
            "469/469 [==============================] - 12s 25ms/step - loss: 0.0069 - accuracy: 0.9979\n",
            "Epoch 15/15\n",
            "469/469 [==============================] - 12s 25ms/step - loss: 0.0109 - accuracy: 0.9964\n"
          ],
          "name": "stdout"
        },
        {
          "output_type": "execute_result",
          "data": {
            "text/plain": [
              "<tensorflow.python.keras.callbacks.History at 0x7f77379a4d68>"
            ]
          },
          "metadata": {
            "tags": []
          },
          "execution_count": 66
        }
      ]
    },
    {
      "cell_type": "code",
      "metadata": {
        "id": "wn1P16nhX9e7",
        "outputId": "723c1fe8-ee6a-4c9f-accd-66491f3097a1",
        "colab": {
          "base_uri": "https://localhost:8080/",
          "height": 34
        }
      },
      "source": [
        "test_loss,test_acc = myNetwork.evaluate(test_images,test_labels)"
      ],
      "execution_count": 67,
      "outputs": [
        {
          "output_type": "stream",
          "text": [
            "313/313 [==============================] - 1s 4ms/step - loss: 0.1057 - accuracy: 0.9814\n"
          ],
          "name": "stdout"
        }
      ]
    },
    {
      "cell_type": "code",
      "metadata": {
        "id": "rnSXsTFAXn1C",
        "outputId": "43f5888b-7fbd-4746-d7e4-67fe441e2192",
        "colab": {
          "base_uri": "https://localhost:8080/",
          "height": 34
        }
      },
      "source": [
        "print('Test accuracy: ', test_acc, 'test_loss', test_loss)"
      ],
      "execution_count": 17,
      "outputs": [
        {
          "output_type": "stream",
          "text": [
            "Test accuracy:  0.9814000129699707 test_loss 0.06799034774303436\n"
          ],
          "name": "stdout"
        }
      ]
    },
    {
      "cell_type": "code",
      "metadata": {
        "id": "6WCKsMMB5mxw",
        "outputId": "8ad8e382-34e0-428b-e114-612dfd153f29",
        "colab": {
          "base_uri": "https://localhost:8080/",
          "height": 34
        }
      },
      "source": [
        "from google.colab import drive\n",
        "drive.mount('/content/gdrive')\n"
      ],
      "execution_count": 72,
      "outputs": [
        {
          "output_type": "stream",
          "text": [
            "Mounted at /content/gdrive\n"
          ],
          "name": "stdout"
        }
      ]
    },
    {
      "cell_type": "code",
      "metadata": {
        "id": "SzDjF9bC7Y3x"
      },
      "source": [
        "model_save_name = 'Jayam_Week7.h5'\n",
        "path = F\"/content/gdrive/My Drive/{model_save_name}\"\n",
        "myNetwork.save(path)"
      ],
      "execution_count": 74,
      "outputs": []
    },
    {
      "cell_type": "code",
      "metadata": {
        "id": "gPzSAEpF7m1R",
        "outputId": "b56a7928-0873-4e52-85b4-af8ef6d48f34",
        "colab": {
          "base_uri": "https://localhost:8080/",
          "height": 255
        }
      },
      "source": [
        "import tensorflow as tf\n",
        "new_model=tf.keras.models.load_model(path)\n",
        "new_model.summary()"
      ],
      "execution_count": 78,
      "outputs": [
        {
          "output_type": "stream",
          "text": [
            "Model: \"sequential_3\"\n",
            "_________________________________________________________________\n",
            "Layer (type)                 Output Shape              Param #   \n",
            "=================================================================\n",
            "dense_12 (Dense)             (None, 784)               615440    \n",
            "_________________________________________________________________\n",
            "dense_13 (Dense)             (None, 784)               615440    \n",
            "_________________________________________________________________\n",
            "dense_14 (Dense)             (None, 10)                7850      \n",
            "=================================================================\n",
            "Total params: 1,238,730\n",
            "Trainable params: 1,238,730\n",
            "Non-trainable params: 0\n",
            "_________________________________________________________________\n"
          ],
          "name": "stdout"
        }
      ]
    },
    {
      "cell_type": "code",
      "metadata": {
        "id": "JTseAhJ0YHRA",
        "outputId": "7f4fc33a-f190-4b84-afe6-299a5f448299",
        "colab": {
          "base_uri": "https://localhost:8080/",
          "height": 286
        }
      },
      "source": [
        "from PIL import Image\n",
        "import requests\n",
        "from io import BytesIO\n",
        "import matplotlib.pyplot as plt\n",
        "import matplotlib.image as mpimg\n",
        "\n",
        "input_image_url = input(\"Enter the URL you would like to download: \")\n",
        "image = requests.get(input_image_url)\n",
        "with open('pic1.jpg', 'wb') as outfile:\n",
        "    outfile.write(image.content)\n",
        "\n",
        "img = mpimg.imread('pic1.jpg')\n",
        "imgplot = plt.imshow(img)\n",
        "plt.show()"
      ],
      "execution_count": 79,
      "outputs": [
        {
          "output_type": "stream",
          "text": [
            "Enter the URL you would like to download: https://miro.medium.com/max/282/1*xpszL7jJrV5UTV7Xa-fgWQ.png\n"
          ],
          "name": "stdout"
        },
        {
          "output_type": "display_data",
          "data": {
            "image/png": "[encoded data removed]",
            "text/plain": [
              "<Figure size 432x288 with 1 Axes>"
            ]
          },
          "metadata": {
            "tags": [],
            "needs_background": "light"
          }
        }
      ]
    },
    {
      "cell_type": "code",
      "metadata": {
        "id": "-XSspEVNiUs4",
        "outputId": "3c2c15be-b31e-4f4d-db4e-a9686200d49a",
        "colab": {
          "base_uri": "https://localhost:8080/",
          "height": 1000
        }
      },
      "source": [
        "import cv2\n",
        "import numpy as np\n",
        "img_array = np.asarray(img)\n",
        "resized = cv2.resize(img_array, (28, 28 ))\n",
        "gray_scale = cv2.cvtColor(resized, cv2.COLOR_BGR2GRAY) #(28, 28)\n",
        "image = cv2.bitwise_not(gray_scale)\n",
        "plt.imshow(image, cmap=plt.get_cmap('gray'))\n",
        "print(image)"
      ],
      "execution_count": 80,
      "outputs": [
        {
          "output_type": "stream",
          "text": [
            "[[  0   0   0   0   0   0   0   0   0   0   0   0   0   0   0   0   0   0\n",
            "    0   0   0   0   0   0   0   0   0   0]\n",
            " [  0   0   0   0   0   0   0   0   0   0   0   0   0   0   0   0   0   0\n",
            "    0   0   0   0   0   0   0   0   0   0]\n",
            " [  0   0   0   0   0   0   0   0   0   0   0   0   0   0   0   0   0   0\n",
            "    0   0   0   0   0   0   0   0   0   0]\n",
            " [  0   0   0   0   0   0   0   0   0   0   0   0   0   0   0   0   0   0\n",
            "    0   0   0   0   0   0   0   0   0   0]\n",
            " [  0   0   0   0   0   0   0   0   0   0   4  12   1   0   0   0   0   0\n",
            "    0   4   2   0   0   0   0   0   0   0]\n",
            " [  0   0   0   0   0   0   0   0   0   3  58 187  14   0   0   0   0   0\n",
            "    4  64  36   2   0   0   0   0   0   0]\n",
            " [  0   0   0   0   0   0   0   0   0   8 121 209  15   0   0   0   0   0\n",
            "    9 133 151  11   0   0   0   0   0   0]\n",
            " [  0   0   0   0   0   0   0   0   0  19 184 209  15   0   0   0   0   0\n",
            "    6 101 191  23   0   0   0   0   0   0]\n",
            " [  0   0   0   0   0   0   0   0   7  82 229 131   8   0   0   0   0   0\n",
            "    7 119 227  34   1   0   0   0   0   0]\n",
            " [  0   0   0   0   0   0   0   3  58 215 198  30   1   0   0   0   0   0\n",
            "   13 183 234  34   1   0   0   0   0   0]\n",
            " [  0   0   0   0   0   0   0  15 160 228  68   4   0   0   0   0   0   1\n",
            "   38 237 235  33   1   0   0   0   0   0]\n",
            " [  0   0   0   0   0   0   5  88 227 196  16   0   0   0   0   0   0  10\n",
            "  137 242 179  16   0   0   0   0   0   0]\n",
            " [  0   0   0   0   0   0  11 162 237 109   7   0   0   0   0   0   2  46\n",
            "  217 236  77   4   0   0   0   0   0   0]\n",
            " [  0   0   0   0   0   1  27 212 230  22   0   0   0   0   0   0   9 129\n",
            "  241 201  17   0   0   0   0   0   0   0]\n",
            " [  0   0   0   0   0   1  34 229 166  11   0   0   0   0   0   0  12 166\n",
            "  242 161  10   0   0   0   0   0   0   0]\n",
            " [  0   0   0   0   0   0  21 193 197  38   7   5   5   5   8  11  44 234\n",
            "  244 113   7   0   0   0   0   0   0   0]\n",
            " [  0   0   0   0   0   0  11 158 236 188  97  90  90  93 127 158 190 248\n",
            "  243 103   6   0   0   0   0   0   0   0]\n",
            " [  0   0   0   0   0   0   3  51 161 226 231 231 231 230 213 215 241 252\n",
            "  237  29   1   0   0   0   0   0   0   0]\n",
            " [  0   0   0   0   0   0   0   3  13  57  87  89  89  85  19  24 161 247\n",
            "  237  19   0   0   0   0   0   0   0   0]\n",
            " [  0   0   0   0   0   0   0   0   0   3   5   5   5   5   0   8 128 245\n",
            "  239  51   2   0   0   0   0   0   0   0]\n",
            " [  0   0   0   0   0   0   0   0   0   0   0   0   0   0   0   8 127 245\n",
            "  237  19   0   0   0   0   0   0   0   0]\n",
            " [  0   0   0   0   0   0   0   0   0   0   0   0   0   0   0   8 127 245\n",
            "  236  16   0   0   0   0   0   0   0   0]\n",
            " [  0   0   0   0   0   0   0   0   0   0   0   0   0   0   0   9 138 244\n",
            "  223  15   0   0   0   0   0   0   0   0]\n",
            " [  0   0   0   0   0   0   0   0   0   0   0   0   0   0   0  14 209 219\n",
            "  113   7   0   0   0   0   0   0   0   0]\n",
            " [  0   0   0   0   0   0   0   0   0   0   0   0   0   0   0  11 154  75\n",
            "   10   0   0   0   0   0   0   0   0   0]\n",
            " [  0   0   0   0   0   0   0   0   0   0   0   0   0   0   0   1  10   4\n",
            "    0   0   0   0   0   0   0   0   0   0]\n",
            " [  0   0   0   0   0   0   0   0   0   0   0   0   0   0   0   0   0   0\n",
            "    0   0   0   0   0   0   0   0   0   0]\n",
            " [  0   0   0   0   0   0   0   0   0   0   0   0   0   0   0   0   0   0\n",
            "    0   0   0   0   0   0   0   0   0   0]]\n"
          ],
          "name": "stdout"
        },
        {
          "output_type": "display_data",
          "data": {
            "image/png": "[encoded data removed]",
            "text/plain": [
              "<Figure size 432x288 with 1 Axes>"
            ]
          },
          "metadata": {
            "tags": [],
            "needs_background": "light"
          }
        }
      ]
    },
    {
      "cell_type": "code",
      "metadata": {
        "id": "-p2aI2tQoIvX",
        "outputId": "c954e653-f992-4be8-ab29-f80e17814159",
        "colab": {
          "base_uri": "https://localhost:8080/",
          "height": 34
        }
      },
      "source": [
        "image = image / 255\n",
        "image = image.reshape(1, 784)\n",
        "image = image.astype('float32')\n",
        "\n",
        "prediction = myNetwork.predict_classes(image)\n",
        "print(\"predicted digit:\", str(prediction))\n"
      ],
      "execution_count": 81,
      "outputs": [
        {
          "output_type": "stream",
          "text": [
            "predicted digit: [4]\n"
          ],
          "name": "stdout"
        }
      ]
    }
  ]
}