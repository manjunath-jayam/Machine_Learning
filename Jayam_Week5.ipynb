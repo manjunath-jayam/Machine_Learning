{
  "nbformat": 4,
  "nbformat_minor": 0,
  "metadata": {
    "kernelspec": {
      "display_name": "Python 3",
      "language": "python",
      "name": "python3"
    },
    "language_info": {
      "codemirror_mode": {
        "name": "ipython",
        "version": 3
      },
      "file_extension": ".py",
      "mimetype": "text/x-python",
      "name": "python",
      "nbconvert_exporter": "python",
      "pygments_lexer": "ipython3",
      "version": "3.7.4"
    },
    "colab": {
      "name": "Jayam_Week5.ipynb",
      "provenance": []
    }
  },
  "cells": [
    {
      "cell_type": "markdown",
      "metadata": {
        "id": "gBvybS7Y_QFJ"
      },
      "source": [
        "Given Code by Professor"
      ]
    },
    {
      "cell_type": "code",
      "metadata": {
        "id": "OnqRVk_7yget"
      },
      "source": [
        "import numpy as np \n",
        "import matplotlib.pyplot as plt \n",
        "import pandas as pd\n",
        "\n",
        "# input data  (student to implement fetch function to grab inputs/outputs file and transform accordingly)\n",
        "# The location to fecth data is:  https://github.com/barnysanchez/clarku-assignment4/raw/main/inputANDoutputs.csv\n",
        "\n",
        "inputs = np.array([[0, 1, 0],\n",
        "                [0, 1, 1],])\n",
        "# output data\n",
        "outputs = np.array([[0], [0]])"
      ],
      "execution_count": 36,
      "outputs": []
    },
    {
      "cell_type": "code",
      "metadata": {
        "id": "2fsYOopw_QFN"
      },
      "source": [
        "# create NeuralNetwork class\n",
        "class NeuralNetwork:\n",
        "\n",
        "    # intialize variables in class\n",
        "    def __init__(self, inputs, outputs):\n",
        "        self.inputs  = inputs\n",
        "        self.outputs = outputs\n",
        "        # initialize weights as .50 for simplicity\n",
        "        self.weights = np.array([[.50], [.50], [.50]])\n",
        "        self.error_history = []\n",
        "        self.epoch_list = []\n",
        "        self.accuracy_history = []\n",
        "\n",
        "    #activation function ==> S(x) = 1/1+e^(-x)\n",
        "    def sigmoid(self, x, deriv=False):\n",
        "        if deriv == True:\n",
        "            return x * (1 - x)\n",
        "        return 1 / (1 + np.exp(-x))\n",
        "\n",
        "    # data will flow through the neural network.\n",
        "    def feed_forward(self):\n",
        "        self.hidden = self.sigmoid(np.dot(self.inputs, self.weights))\n",
        "\n",
        "    # going backwards through the network to update weights\n",
        "    def backpropagation(self):\n",
        "        self.error  = self.outputs - self.hidden\n",
        "        delta = self.error * self.sigmoid(self.hidden, deriv=True)\n",
        "        self.weights += np.dot(self.inputs.T, delta)\n",
        "\n",
        "    # train the neural net for 500 iterations\n",
        "    def train(self, epochs):\n",
        "        self.error_history = []\n",
        "        self.epoch_list = []\n",
        "        self.accuracy_history = []\n",
        "        for epoch in range(epochs):\n",
        "            # flow forward and produce an output\n",
        "            self.feed_forward()\n",
        "            # go back though the network to make corrections based on the output\n",
        "            self.backpropagation()    \n",
        "            # keep track of the error history over each epoch\n",
        "            self.error_history.append(np.average(np.abs(self.error)))\n",
        "            self.epoch_list.append(epoch)\n",
        "            self.accuracy_history.append(self.accuracy())\n",
        "\n",
        "    # function to predict output on new and unseen input data                               \n",
        "    def predict(self, new_input):\n",
        "        prediction = self.sigmoid(np.dot(new_input, self.weights))\n",
        "        return prediction\n",
        "\n",
        "    def accuracy(self):\n",
        "        predicted_values = []\n",
        "        for i in self.inputs:\n",
        "            predicted_values.append(self.predict(i))\n",
        "        correctly_predicted = np.sum(np.argmax(predicted_values, 1) == np.argmax(outputs, 1)) \n",
        "        accuracy = (correctly_predicted) / len(predicted_values)\n",
        "        return accuracy\n",
        "\n",
        "    '''\n",
        "    SoftMax activation function start\n",
        "    '''\n",
        "    def softmax(self, x, deriv=False):\n",
        "      if deriv == True:\n",
        "        return x * (1 - x)\n",
        "      return (np.exp(x) / sum(np.exp(x)))\n",
        "\n",
        "    def feed_forward_softmax(self):\n",
        "        self.hidden = self.softmax(np.dot(self.inputs, self.weights))\n",
        "\n",
        "    # going backwards through the network to update weights\n",
        "    def backpropagation_softmax(self):\n",
        "        self.error  = self.outputs - self.hidden\n",
        "        delta = self.error * self.softmax(self.hidden, deriv=True)\n",
        "        self.weights += np.dot(self.inputs.T, delta)\n",
        "\n",
        "    def train_softmax(self, epochs):\n",
        "        self.error_history = []\n",
        "        self.epoch_list = []\n",
        "        self.accuracy_history = []\n",
        "        for epoch in range(epochs):\n",
        "                # flow forward and produce an output\n",
        "                self.feed_forward_softmax()\n",
        "                # go back though the network to make corrections based on the output\n",
        "                self.backpropagation_softmax()    \n",
        "                # keep track of the error history over each epoch\n",
        "                self.error_history.append(np.average(np.abs(self.error)))\n",
        "                self.epoch_list.append(epoch)\n",
        "\n",
        "    def predict_softmax(self, new_input):\n",
        "        prediction = self.softmax(np.dot(new_input, self.weights))\n",
        "        return prediction\n",
        "\n"
      ],
      "execution_count": 50,
      "outputs": []
    },
    {
      "cell_type": "code",
      "metadata": {
        "id": "_Wj3K4fv4Wru",
        "outputId": "5fa4cb55-4659-406c-f4cc-4294e2afc190",
        "colab": {
          "base_uri": "https://localhost:8080/",
          "height": 368
        }
      },
      "source": [
        "# create neural network   \n",
        "NN = NeuralNetwork(inputs, outputs)\n",
        "# train neural network\n",
        "NN.train(5)\n",
        "\n",
        "# create two new examples to predict                                   \n",
        "example = np.array([[1, 1, 0]])\n",
        "example_2 = np.array([[0, 1, 1]])\n",
        "\n",
        "# print the predictions for both examples                                   \n",
        "print(NN.predict(example), ' - Correct: ', example[0][0])\n",
        "print(NN.predict(example_2), ' - Correct: ', example_2[0][0])\n",
        "\n",
        "# plot the error over the entire training duration\n",
        "plt.figure(figsize=(15,5))\n",
        "plt.plot(NN.epoch_list, NN.error_history)\n",
        "plt.xlabel('Epoch')\n",
        "plt.ylabel('Error')\n",
        "plt.show()"
      ],
      "execution_count": 42,
      "outputs": [
        {
          "output_type": "stream",
          "text": [
            "[[0.44866936]]  - Correct:  1\n",
            "[[0.30552324]]  - Correct:  0\n"
          ],
          "name": "stdout"
        },
        {
          "output_type": "display_data",
          "data": {
            "image/png": "[encoded data removed]",
            "text/plain": [
              "<Figure size 1080x360 with 1 Axes>"
            ]
          },
          "metadata": {
            "tags": [],
            "needs_background": "light"
          }
        }
      ]
    },
    {
      "cell_type": "markdown",
      "metadata": {
        "id": "aIXrYFWO5gSJ"
      },
      "source": [
        "Section 3) Determine the number of epochs needed to achieve 99% prediction accuracy. Manipulate the plot to clearly show this (35%) (Once with the code running after your previous modifications, determine the number of epochs needed to achieve 99% prediction accuracy. I will look at your plot for this but put a comment in your Jupyter cells and call out that number clearly, the number of epochs you determined were needed. The plot will give me confirmation of your statement.)"
      ]
    },
    {
      "cell_type": "markdown",
      "metadata": {
        "id": "CwLsBzZ-_QFU"
      },
      "source": [
        "Importing the required Packages and reading input from given URL"
      ]
    },
    {
      "cell_type": "code",
      "metadata": {
        "id": "yMoclnLO_QFV",
        "outputId": "c12ffabf-0ded-48a9-8e8f-d0c60756ea6e",
        "colab": {
          "base_uri": "https://localhost:8080/",
          "height": 34
        }
      },
      "source": [
        "import numpy as np \n",
        "import matplotlib.pyplot as plt \n",
        "import pandas as pd\n",
        "\n",
        "# input data  (student to implement fetch function to grab inputs/outputs file and transform accordingly)\n",
        "# The location to fecth data is:  https://github.com/barnysanchez/clarku-assignment4/raw/main/inputANDoutputs.csv\n",
        "input_url=input('Enter the URL to fetch the data: ')\n",
        "#df=pd.read_csv('https://github.com/barnysanchez/clarku-assignment4/raw/main/inputANDoutputs.csv')\n"
      ],
      "execution_count": 43,
      "outputs": [
        {
          "output_type": "stream",
          "text": [
            "Enter the URL to fetch the data: https://github.com/barnysanchez/clarku-assignment4/raw/main/inputANDoutputs.csv\n"
          ],
          "name": "stdout"
        }
      ]
    },
    {
      "cell_type": "code",
      "metadata": {
        "id": "WdlAwBoN-us3",
        "outputId": "702860ba-d2dd-418c-937c-dfecac1b6af9",
        "colab": {
          "base_uri": "https://localhost:8080/",
          "height": 85
        }
      },
      "source": [
        "df=pd.read_csv(input_url)\n",
        "inputs = df.drop(\"output\",axis=1).values\n",
        "inputs"
      ],
      "execution_count": 44,
      "outputs": [
        {
          "output_type": "execute_result",
          "data": {
            "text/plain": [
              "array([[0, 0, 1],\n",
              "       [0, 1, 1],\n",
              "       [1, 0, 1],\n",
              "       [1, 0, 0]])"
            ]
          },
          "metadata": {
            "tags": []
          },
          "execution_count": 44
        }
      ]
    },
    {
      "cell_type": "code",
      "metadata": {
        "id": "KHy6wjXP_QFb",
        "outputId": "68a385f9-806c-4da2-9f67-fc3d632ba1a3",
        "colab": {
          "base_uri": "https://localhost:8080/",
          "height": 85
        }
      },
      "source": [
        "outputs = df[['output']].values\n",
        "outputs\n",
        "\n",
        "# output data\n",
        "#outputs = np.array([[0], [0]])"
      ],
      "execution_count": 45,
      "outputs": [
        {
          "output_type": "execute_result",
          "data": {
            "text/plain": [
              "array([[0],\n",
              "       [0],\n",
              "       [1],\n",
              "       [1]])"
            ]
          },
          "metadata": {
            "tags": []
          },
          "execution_count": 45
        }
      ]
    },
    {
      "cell_type": "markdown",
      "metadata": {
        "id": "s9JbKMnw_QFh"
      },
      "source": [
        "Neural Network finding out the number of epochs required to achieve 99% accuracy with sigmoid function"
      ]
    },
    {
      "cell_type": "code",
      "metadata": {
        "id": "EQ37WugD_QFj"
      },
      "source": [
        "\n",
        "# create NeuralNetwork class\n",
        "class NeuralNetwork:\n",
        "\n",
        "    # intialize variables in class\n",
        "    def __init__(self, inputs, outputs):\n",
        "        self.inputs  = inputs\n",
        "        self.outputs = outputs\n",
        "        # initialize weights as .50 for simplicity\n",
        "        self.weights = np.array([[.50], [.50], [.50]])\n",
        "        self.error_history = []\n",
        "        self.epoch_list = []\n",
        "\n",
        "    #activation function ==> S(x) = 1/1+e^(-x)\n",
        "    def sigmoid(self, x, deriv=False):\n",
        "        if deriv == True:\n",
        "            return x * (1 - x)\n",
        "        return 1 / (1 + np.exp(-x))\n",
        "\n",
        "    # data will flow through the neural network.\n",
        "    def feed_forward(self):\n",
        "        self.hidden = self.sigmoid(np.dot(self.inputs, self.weights))\n",
        "\n",
        "    # going backwards through the network to update weights\n",
        "    def backpropagation(self):\n",
        "        self.error  = self.outputs - self.hidden\n",
        "        delta = self.error * self.sigmoid(self.hidden, deriv=True)\n",
        "        self.weights += np.dot(self.inputs.T, delta)\n",
        "\n",
        "    # train the neural net for 600 iterations\n",
        "    def train(self, epochs):\n",
        "        for epoch in range(epochs):\n",
        "            # flow forward and produce an output\n",
        "            self.feed_forward()\n",
        "            # go back though the network to make corrections based on the output\n",
        "            self.backpropagation()    \n",
        "            # keep track of the error history over each epoch\n",
        "            self.error_history.append(np.average(np.abs(self.error)))\n",
        "            self.epoch_list.append(epoch)\n",
        "\n",
        "    # function to predict output on new and unseen input data                               \n",
        "    def predict(self, new_input):\n",
        "        prediction = self.sigmoid(np.dot(new_input, self.weights))\n",
        "        return prediction\n",
        "\n"
      ],
      "execution_count": 47,
      "outputs": []
    },
    {
      "cell_type": "code",
      "metadata": {
        "id": "NCIhGByX6Xvu",
        "outputId": "3bfa4028-a427-4f5b-ae8b-dbc1256a2c4a",
        "colab": {
          "base_uri": "https://localhost:8080/",
          "height": 372
        }
      },
      "source": [
        "# create neural network   \n",
        "NN = NeuralNetwork(inputs, outputs)\n",
        "# train neural network\n",
        "NN.train(5000)\n",
        "\n",
        "# create two new examples to predict                                   \n",
        "example = np.array([[1, 1, 0]])\n",
        "example_2 = np.array([[0, 1, 1]])\n",
        "\n",
        "# print the predictions for both examples                                   \n",
        "print(NN.predict(example), ' - Correct: ', example[0][0])\n",
        "print(NN.predict(example_2), ' - Correct: ', example_2[0][0])\n",
        "\n",
        "# plot the error over the entire training duration\n",
        "plt.figure(figsize=(15,5))\n",
        "plt.plot(NN.epoch_list, NN.error_history)\n",
        "plt.xlabel('Epoch')\n",
        "plt.ylabel('Error')\n",
        "plt.grid(b=True)\n",
        "plt.ylim([0,0.2])\n",
        "plt.xticks([0,500,1000,1500,2000,2500,3000,3500,4000,4500,5000])\n",
        "plt.show()"
      ],
      "execution_count": 48,
      "outputs": [
        {
          "output_type": "stream",
          "text": [
            "[[0.99874854]]  - Correct:  1\n",
            "[[0.00367582]]  - Correct:  0\n"
          ],
          "name": "stdout"
        },
        {
          "output_type": "display_data",
          "data": {
            "image/png": "[encoded data removed]",
            "text/plain": [
              "<Figure size 1080x360 with 1 Axes>"
            ]
          },
          "metadata": {
            "tags": [],
            "needs_background": "light"
          }
        }
      ]
    },
    {
      "cell_type": "markdown",
      "metadata": {
        "id": "9aCRVwRgDwcz"
      },
      "source": [
        "After 600 epochs we can see it achieved 99% accuracy with sigmoid function"
      ]
    },
    {
      "cell_type": "markdown",
      "metadata": {
        "id": "Y6iY3rY-_QFq"
      },
      "source": [
        "Lets Try on Softmax function"
      ]
    },
    {
      "cell_type": "code",
      "metadata": {
        "id": "9b7bIRH_Cb2D"
      },
      "source": [
        "# create NeuralNetwork class\n",
        "class NeuralNetwork:\n",
        "\n",
        "    # intialize variables in class\n",
        "    def __init__(self, inputs, outputs):\n",
        "        self.inputs  = inputs\n",
        "        self.outputs = outputs\n",
        "        # initialize weights as .50 for simplicity\n",
        "        self.weights = np.array([[.50], [.50], [.50]])\n",
        "        self.error_history = []\n",
        "        self.epoch_list = []\n",
        "        self.accuracy_history = []\n",
        "\n",
        "    #activation function ==> S(x) = 1/1+e^(-x)\n",
        "    def sigmoid(self, x, deriv=False):\n",
        "        if deriv == True:\n",
        "            return x * (1 - x)\n",
        "        return 1 / (1 + np.exp(-x))\n",
        "\n",
        "    # data will flow through the neural network.\n",
        "    def feed_forward(self):\n",
        "        self.hidden = self.sigmoid(np.dot(self.inputs, self.weights))\n",
        "\n",
        "    # going backwards through the network to update weights\n",
        "    def backpropagation(self):\n",
        "        self.error  = self.outputs - self.hidden\n",
        "        delta = self.error * self.sigmoid(self.hidden, deriv=True)\n",
        "        self.weights += np.dot(self.inputs.T, delta)\n",
        "\n",
        "    # train the neural net for 500 iterations\n",
        "    def train(self, epochs):\n",
        "        self.error_history = []\n",
        "        self.epoch_list = []\n",
        "        self.accuracy_history = []\n",
        "        for epoch in range(epochs):\n",
        "            # flow forward and produce an output\n",
        "            self.feed_forward()\n",
        "            # go back though the network to make corrections based on the output\n",
        "            self.backpropagation()    \n",
        "            # keep track of the error history over each epoch\n",
        "            self.error_history.append(np.average(np.abs(self.error)))\n",
        "            self.epoch_list.append(epoch)\n",
        "            self.accuracy_history.append(self.accuracy())\n",
        "\n",
        "    # function to predict output on new and unseen input data                               \n",
        "    def predict(self, new_input):\n",
        "        prediction = self.sigmoid(np.dot(new_input, self.weights))\n",
        "        return prediction\n",
        "\n",
        "    def accuracy(self):\n",
        "        predicted_values = []\n",
        "        for i in self.inputs:\n",
        "            predicted_values.append(self.predict(i))\n",
        "        correctly_predicted = np.sum(np.argmax(predicted_values, 1) == np.argmax(outputs, 1)) \n",
        "        accuracy = (correctly_predicted) / len(predicted_values)\n",
        "        return accuracy\n",
        "\n",
        "    '''\n",
        "    SoftMax activation function start\n",
        "    '''\n",
        "    def softmax(self, x, deriv=False):\n",
        "      if deriv == True:\n",
        "        return x * (1 - x)\n",
        "      return (np.exp(x) / sum(np.exp(x)))\n",
        "\n",
        "    def feed_forward_softmax(self):\n",
        "        self.hidden = self.softmax(np.dot(self.inputs, self.weights))\n",
        "\n",
        "    # going backwards through the network to update weights\n",
        "    def backpropagation_softmax(self):\n",
        "        self.error  = self.outputs - self.hidden\n",
        "        delta = self.error * self.softmax(self.hidden, deriv=True)\n",
        "        self.weights += np.dot(self.inputs.T, delta)\n",
        "\n",
        "    def train_softmax(self, epochs):\n",
        "        self.error_history = []\n",
        "        self.epoch_list = []\n",
        "        self.accuracy_history = []\n",
        "        for epoch in range(epochs):\n",
        "                # flow forward and produce an output\n",
        "                self.feed_forward_softmax()\n",
        "                # go back though the network to make corrections based on the output\n",
        "                self.backpropagation_softmax()    \n",
        "                # keep track of the error history over each epoch\n",
        "                self.error_history.append(np.average(np.abs(self.error)))\n",
        "                self.epoch_list.append(epoch)\n",
        "\n",
        "    def predict_softmax(self, new_input):\n",
        "        prediction = self.softmax(np.dot(new_input, self.weights))\n",
        "        return prediction\n",
        "\n"
      ],
      "execution_count": 52,
      "outputs": []
    },
    {
      "cell_type": "code",
      "metadata": {
        "id": "MqoPXpI99PVx"
      },
      "source": [
        "# train neural network using softmax activation function for 500 epochs\n",
        "NN = NeuralNetwork(inputs, outputs)\n",
        "NN.train_softmax(500)"
      ],
      "execution_count": 53,
      "outputs": []
    },
    {
      "cell_type": "code",
      "metadata": {
        "id": "XcJUmSjj9WzU",
        "outputId": "f7e4d937-4150-4595-8976-9ecded49732e",
        "colab": {
          "base_uri": "https://localhost:8080/",
          "height": 51
        }
      },
      "source": [
        "# print the predictions using softmax activation function for both examples\n",
        "print(f'{NN.predict_softmax(example)} - Correct: {example[0][0]}')\n",
        "print(f'{NN.predict_softmax(example_2)} - Correct: {example_2[0][0]}')"
      ],
      "execution_count": 54,
      "outputs": [
        {
          "output_type": "stream",
          "text": [
            "[[1.]] - Correct: 1\n",
            "[[1.]] - Correct: 0\n"
          ],
          "name": "stdout"
        }
      ]
    },
    {
      "cell_type": "code",
      "metadata": {
        "id": "UnYnOoFz9bTR",
        "outputId": "34078e7d-c1e9-427f-e78f-a27ea4fa6f3f",
        "colab": {
          "base_uri": "https://localhost:8080/",
          "height": 606
        }
      },
      "source": [
        "# plot the error over the entire training duration\n",
        "plt.figure(figsize=(15,10))\n",
        "plt.plot(NN.epoch_list, NN.error_history)\n",
        "plt.xlabel('Epoch')\n",
        "plt.ylabel('Error')\n",
        "plt.xticks([0,25,50,75,100])\n",
        "plt.grid(b=True)\n",
        "plt.show()"
      ],
      "execution_count": 58,
      "outputs": [
        {
          "output_type": "display_data",
          "data": {
            "image/png": "[encoded data removed]",
            "text/plain": [
              "<Figure size 1080x720 with 1 Axes>"
            ]
          },
          "metadata": {
            "tags": [],
            "needs_background": "light"
          }
        }
      ]
    },
    {
      "cell_type": "markdown",
      "metadata": {
        "id": "WBeoUkmGDVtv"
      },
      "source": [
        "As you can see from the graph and the prediction , when we use softmax activation function if achieved 99% accuracy after 30 epochs"
      ]
    },
    {
      "cell_type": "code",
      "metadata": {
        "id": "UTiJD4FV_QFx"
      },
      "source": [
        ""
      ],
      "execution_count": null,
      "outputs": []
    }
  ]
}