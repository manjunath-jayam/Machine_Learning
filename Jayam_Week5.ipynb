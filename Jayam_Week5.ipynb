{
 "cells": [
  {
   "cell_type": "markdown",
   "metadata": {},
   "source": [
    "Given Code by Professor"
   ]
  },
  {
   "cell_type": "code",
   "execution_count": 2,
   "metadata": {},
   "outputs": [
    {
     "name": "stdout",
     "output_type": "stream",
     "text": [
      "[[0.44866936]]  - Correct:  1\n",
      "[[0.30552324]]  - Correct:  0\n"
     ]
    },
    {
     "data": {
      "image/png": "[encoded data removed]",
      "text/plain": [
       "<Figure size 1080x360 with 1 Axes>"
      ]
     },
     "metadata": {
      "needs_background": "light"
     },
     "output_type": "display_data"
    }
   ],
   "source": [
    "import numpy as np \n",
    "import matplotlib.pyplot as plt \n",
    "import pandas as pd\n",
    "\n",
    "# input data  (student to implement fetch function to grab inputs/outputs file and transform accordingly)\n",
    "# The location to fecth data is:  https://github.com/barnysanchez/clarku-assignment4/raw/main/inputANDoutputs.csv\n",
    "\n",
    "inputs = np.array([[0, 1, 0],\n",
    "                [0, 1, 1],])\n",
    "\n",
    "# output data\n",
    "outputs = np.array([[0], [0]])\n",
    "\n",
    "# create NeuralNetwork class\n",
    "class NeuralNetwork:\n",
    "\n",
    "    # intialize variables in class\n",
    "    def __init__(self, inputs, outputs):\n",
    "        self.inputs  = inputs\n",
    "        self.outputs = outputs\n",
    "        # initialize weights as .50 for simplicity\n",
    "        self.weights = np.array([[.50], [.50], [.50]])\n",
    "        self.error_history = []\n",
    "        self.epoch_list = []\n",
    "\n",
    "    #activation function ==> S(x) = 1/1+e^(-x)\n",
    "    def sigmoid(self, x, deriv=False):\n",
    "        if deriv == True:\n",
    "            return x * (1 - x)\n",
    "        return 1 / (1 + np.exp(-x))\n",
    "\n",
    "    # data will flow through the neural network.\n",
    "    def feed_forward(self):\n",
    "        self.hidden = self.sigmoid(np.dot(self.inputs, self.weights))\n",
    "\n",
    "    # going backwards through the network to update weights\n",
    "    def backpropagation(self):\n",
    "        self.error  = self.outputs - self.hidden\n",
    "        delta = self.error * self.sigmoid(self.hidden, deriv=True)\n",
    "        self.weights += np.dot(self.inputs.T, delta)\n",
    "\n",
    "    # train the neural net for 5 iterations\n",
    "    def train(self, epochs=5):\n",
    "        for epoch in range(epochs):\n",
    "            # flow forward and produce an output\n",
    "            self.feed_forward()\n",
    "            # go back though the network to make corrections based on the output\n",
    "            self.backpropagation()    \n",
    "            # keep track of the error history over each epoch\n",
    "            self.error_history.append(np.average(np.abs(self.error)))\n",
    "            self.epoch_list.append(epoch)\n",
    "\n",
    "    # function to predict output on new and unseen input data                               \n",
    "    def predict(self, new_input):\n",
    "        prediction = self.sigmoid(np.dot(new_input, self.weights))\n",
    "        return prediction\n",
    "\n",
    "# create neural network   \n",
    "NN = NeuralNetwork(inputs, outputs)\n",
    "# train neural network\n",
    "NN.train()\n",
    "\n",
    "# create two new examples to predict                                   \n",
    "example = np.array([[1, 1, 0]])\n",
    "example_2 = np.array([[0, 1, 1]])\n",
    "\n",
    "# print the predictions for both examples                                   \n",
    "print(NN.predict(example), ' - Correct: ', example[0][0])\n",
    "print(NN.predict(example_2), ' - Correct: ', example_2[0][0])\n",
    "\n",
    "# plot the error over the entire training duration\n",
    "plt.figure(figsize=(15,5))\n",
    "plt.plot(NN.epoch_list, NN.error_history)\n",
    "plt.xlabel('Epoch')\n",
    "plt.ylabel('Error')\n",
    "plt.show()"
   ]
  },
  {
   "cell_type": "markdown",
   "metadata": {},
   "source": [
    "Importing the required Packages and reading input from given URL"
   ]
  },
  {
   "cell_type": "code",
   "execution_count": 3,
   "metadata": {},
   "outputs": [
    {
     "data": {
      "text/plain": [
       "array([[0, 0, 1],\n",
       "       [0, 1, 1],\n",
       "       [1, 0, 1],\n",
       "       [1, 0, 0]], dtype=int64)"
      ]
     },
     "execution_count": 3,
     "metadata": {},
     "output_type": "execute_result"
    }
   ],
   "source": [
    "import numpy as np \n",
    "import matplotlib.pyplot as plt \n",
    "import pandas as pd\n",
    "\n",
    "# input data  (student to implement fetch function to grab inputs/outputs file and transform accordingly)\n",
    "# The location to fecth data is:  https://github.com/barnysanchez/clarku-assignment4/raw/main/inputANDoutputs.csv\n",
    "\n",
    "df=pd.read_csv('https://github.com/barnysanchez/clarku-assignment4/raw/main/inputANDoutputs.csv')\n",
    "inputs = df.drop(\"output\",axis=1).values\n",
    "inputs"
   ]
  },
  {
   "cell_type": "code",
   "execution_count": 19,
   "metadata": {},
   "outputs": [
    {
     "data": {
      "text/plain": [
       "array([[0],\n",
       "       [0],\n",
       "       [1],\n",
       "       [1]], dtype=int64)"
      ]
     },
     "execution_count": 19,
     "metadata": {},
     "output_type": "execute_result"
    }
   ],
   "source": [
    "outputs = df[['output']].values\n",
    "outputs\n",
    "\n",
    "# output data\n",
    "#outputs = np.array([[0], [0]])"
   ]
  },
  {
   "cell_type": "markdown",
   "metadata": {},
   "source": [
    "Neural Network finding out the number of epochs required to achieve 99% accuracy with sigmoid function"
   ]
  },
  {
   "cell_type": "code",
   "execution_count": 20,
   "metadata": {},
   "outputs": [
    {
     "name": "stdout",
     "output_type": "stream",
     "text": [
      "[[0.99012176]]  - Correct:  1\n",
      "[[0.01338331]]  - Correct:  0\n"
     ]
    },
    {
     "data": {
      "image/png": "[encoded data removed]",
      "text/plain": [
       "<Figure size 1080x360 with 1 Axes>"
      ]
     },
     "metadata": {
      "needs_background": "light"
     },
     "output_type": "display_data"
    }
   ],
   "source": [
    "\n",
    "# create NeuralNetwork class\n",
    "class NeuralNetwork:\n",
    "\n",
    "    # intialize variables in class\n",
    "    def __init__(self, inputs, outputs):\n",
    "        self.inputs  = inputs\n",
    "        self.outputs = outputs\n",
    "        # initialize weights as .50 for simplicity\n",
    "        self.weights = np.array([[.50], [.50], [.50]])\n",
    "        self.error_history = []\n",
    "        self.epoch_list = []\n",
    "\n",
    "    #activation function ==> S(x) = 1/1+e^(-x)\n",
    "    def sigmoid(self, x, deriv=False):\n",
    "        if deriv == True:\n",
    "            return x * (1 - x)\n",
    "        return 1 / (1 + np.exp(-x))\n",
    "\n",
    "    # data will flow through the neural network.\n",
    "    def feed_forward(self):\n",
    "        self.hidden = self.sigmoid(np.dot(self.inputs, self.weights))\n",
    "\n",
    "    # going backwards through the network to update weights\n",
    "    def backpropagation(self):\n",
    "        self.error  = self.outputs - self.hidden\n",
    "        delta = self.error * self.sigmoid(self.hidden, deriv=True)\n",
    "        self.weights += np.dot(self.inputs.T, delta)\n",
    "\n",
    "    # train the neural net for 5 iterations\n",
    "    def train(self, epochs=600):\n",
    "        for epoch in range(epochs):\n",
    "            # flow forward and produce an output\n",
    "            self.feed_forward()\n",
    "            # go back though the network to make corrections based on the output\n",
    "            self.backpropagation()    \n",
    "            # keep track of the error history over each epoch\n",
    "            self.error_history.append(np.average(np.abs(self.error)))\n",
    "            self.epoch_list.append(epoch)\n",
    "\n",
    "    # function to predict output on new and unseen input data                               \n",
    "    def predict(self, new_input):\n",
    "        prediction = self.sigmoid(np.dot(new_input, self.weights))\n",
    "        return prediction\n",
    "\n",
    "# create neural network   \n",
    "NN = NeuralNetwork(inputs, outputs)\n",
    "# train neural network\n",
    "NN.train()\n",
    "\n",
    "# create two new examples to predict                                   \n",
    "example = np.array([[1, 1, 0]])\n",
    "example_2 = np.array([[0, 1, 1]])\n",
    "\n",
    "# print the predictions for both examples                                   \n",
    "print(NN.predict(example), ' - Correct: ', example[0][0])\n",
    "print(NN.predict(example_2), ' - Correct: ', example_2[0][0])\n",
    "\n",
    "# plot the error over the entire training duration\n",
    "plt.figure(figsize=(15,5))\n",
    "plt.plot(NN.epoch_list, NN.error_history)\n",
    "plt.xlabel('Epoch')\n",
    "plt.ylabel('Error')\n",
    "plt.show()"
   ]
  },
  {
   "cell_type": "markdown",
   "metadata": {},
   "source": [
    "So 600 epochs are required to acheive 99% accuracy with sigmoid function"
   ]
  },
  {
   "cell_type": "markdown",
   "metadata": {},
   "source": [
    "Lets Try on Softmax function"
   ]
  },
  {
   "cell_type": "code",
   "execution_count": 23,
   "metadata": {},
   "outputs": [
    {
     "name": "stdout",
     "output_type": "stream",
     "text": [
      "[[1.]]  - Correct:  1\n",
      "[[1.]]  - Correct:  0\n"
     ]
    },
    {
     "data": {
      "image/png": "[encoded data removed]",
      "text/plain": [
       "<Figure size 1080x360 with 1 Axes>"
      ]
     },
     "metadata": {
      "needs_background": "light"
     },
     "output_type": "display_data"
    }
   ],
   "source": [
    "class NeuralNetwork:\n",
    "\n",
    "    # intialize variables in class\n",
    "    def __init__(self, inputs, outputs):\n",
    "        self.inputs  = inputs\n",
    "        self.outputs = outputs\n",
    "        # initialize weights as .50 for simplicity\n",
    "        self.weights = np.array([[.50], [.50], [.50]])\n",
    "        self.error_history = []\n",
    "        self.epoch_list = []\n",
    "\n",
    "    #activation function ==> S(x) = 1/1+e^(-x)\n",
    "    def sigmoid(self, x, deriv=False):\n",
    "        if deriv == True:\n",
    "            return x * (1 - x)\n",
    "        return (np.exp(x) / sum(np.exp(x)) )\n",
    "\n",
    "    # data will flow through the neural network.\n",
    "    def feed_forward(self):\n",
    "        self.hidden = self.sigmoid(np.dot(self.inputs, self.weights))\n",
    "\n",
    "    # going backwards through the network to update weights\n",
    "    def backpropagation(self):\n",
    "        self.error  = self.outputs - self.hidden\n",
    "        delta = self.error * self.sigmoid(self.hidden, deriv=True)\n",
    "        self.weights += np.dot(self.inputs.T, delta)\n",
    "\n",
    "    # train the neural net for 5 iterations\n",
    "    def train(self, epochs=6):\n",
    "        for epoch in range(epochs):\n",
    "            # flow forward and produce an output\n",
    "            self.feed_forward()\n",
    "            # go back though the network to make corrections based on the output\n",
    "            self.backpropagation()    \n",
    "            # keep track of the error history over each epoch\n",
    "            self.error_history.append(np.average(np.abs(self.error)))\n",
    "            self.epoch_list.append(epoch)\n",
    "\n",
    "    # function to predict output on new and unseen input data                               \n",
    "    def predict(self, new_input):\n",
    "        prediction = self.sigmoid(np.dot(new_input, self.weights))\n",
    "        return prediction\n",
    "\n",
    "# create neural network   \n",
    "NN = NeuralNetwork(inputs, outputs)\n",
    "# train neural network\n",
    "NN.train()\n",
    "\n",
    "# create two new examples to predict                                   \n",
    "example = np.array([[1, 1, 0]])\n",
    "example_2 = np.array([[0, 1, 1]])\n",
    "\n",
    "# print the predictions for both examples                                   \n",
    "print(NN.predict(example), ' - Correct: ', example[0][0])\n",
    "print(NN.predict(example_2), ' - Correct: ', example_2[0][0])\n",
    "\n",
    "# plot the error over the entire training duration\n",
    "plt.figure(figsize=(15,5))\n",
    "plt.plot(NN.epoch_list, NN.error_history)\n",
    "plt.xlabel('Epoch')\n",
    "plt.ylabel('Error')\n",
    "plt.show()"
   ]
  },
  {
   "cell_type": "code",
   "execution_count": null,
   "metadata": {},
   "outputs": [],
   "source": []
  }
 ],
 "metadata": {
  "kernelspec": {
   "display_name": "Python 3",
   "language": "python",
   "name": "python3"
  },
  "language_info": {
   "codemirror_mode": {
    "name": "ipython",
    "version": 3
   },
   "file_extension": ".py",
   "mimetype": "text/x-python",
   "name": "python",
   "nbconvert_exporter": "python",
   "pygments_lexer": "ipython3",
   "version": "3.7.4"
  }
 },
 "nbformat": 4,
 "nbformat_minor": 2
}
